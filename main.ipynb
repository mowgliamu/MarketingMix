{
 "cells": [
  {
   "cell_type": "code",
   "execution_count": 1,
   "id": "445c2682",
   "metadata": {},
   "outputs": [],
   "source": [
    "# Import basic modeuls\n",
    "import os\n",
    "import subprocess\n",
    "import pandas as pd\n",
    "from pprint import pprint\n",
    "import matplotlib.pyplot as plt\n",
    "import warnings\n",
    "warnings.filterwarnings(\"ignore\")\n",
    "from ipywidgets import interact"
   ]
  },
  {
   "cell_type": "code",
   "execution_count": 2,
   "id": "179fe620",
   "metadata": {},
   "outputs": [],
   "source": [
    "# Notebook plot settings\n",
    "import seaborn as sns\n",
    "sns.set_theme()\n",
    "sns.set_style(\"ticks\")\n",
    "sns.color_palette()\n",
    "plt.style.use('fivethirtyeight')"
   ]
  },
  {
   "cell_type": "code",
   "execution_count": 3,
   "id": "7755afc9",
   "metadata": {},
   "outputs": [],
   "source": [
    "# Import local modules (except EDA)\n",
    "import data_io as io\n",
    "import data_dictionary as dd\n",
    "import data_transform as dt\n",
    "import feature_selection as fs\n",
    "import mmm_modeling as mmm"
   ]
  },
  {
   "cell_type": "markdown",
   "id": "27ffd270",
   "metadata": {},
   "source": [
    "# Define Base Path"
   ]
  },
  {
   "cell_type": "code",
   "execution_count": 4,
   "id": "e9ae9bc8",
   "metadata": {},
   "outputs": [],
   "source": [
    "path_base = '.'\n",
    "input_dir = '/input'\n",
    "output_dir = '/output'"
   ]
  },
  {
   "cell_type": "code",
   "execution_count": 5,
   "id": "3572e0ca",
   "metadata": {},
   "outputs": [],
   "source": [
    "filename_read = '3_Adidas_Weekly.csv'\n",
    "path_read = os.path.join(path_base + input_dir, filename_read)"
   ]
  },
  {
   "cell_type": "code",
   "execution_count": 6,
   "id": "81e3e211",
   "metadata": {},
   "outputs": [],
   "source": [
    "df_input = io.read_file(path_read).reset_index().drop('index', axis=1)"
   ]
  },
  {
   "cell_type": "markdown",
   "id": "d20e708c",
   "metadata": {},
   "source": [
    "# 1. Data Dictionary"
   ]
  },
  {
   "cell_type": "markdown",
   "id": "833091b2",
   "metadata": {},
   "source": [
    "## Define input/output"
   ]
  },
  {
   "cell_type": "code",
   "execution_count": 7,
   "id": "eee1e742",
   "metadata": {},
   "outputs": [],
   "source": [
    "file_input_dd = '3_Adidas_Weekly.csv'\n",
    "path_input_dd = os.path.join(path_base + input_dir, file_input_dd)\n",
    "path_output_tmp = path_base + output_dir + '/dd'\n",
    "path_output_dd = path_base + output_dir + '/data_dictionary_final'"
   ]
  },
  {
   "cell_type": "code",
   "execution_count": 8,
   "id": "32257f67",
   "metadata": {},
   "outputs": [],
   "source": [
    "df_input_dd = io.read_file(path_input_dd, file_format='csv') # read the input file"
   ]
  },
  {
   "cell_type": "markdown",
   "id": "66ba51d2",
   "metadata": {},
   "source": [
    "## Create Data Dictionary"
   ]
  },
  {
   "cell_type": "code",
   "execution_count": null,
   "id": "985d3419",
   "metadata": {
    "collapsed": true
   },
   "outputs": [],
   "source": [
    "%%timeit -r1 -n1\n",
    "\n",
    "dd.create_data_dictionary(df_input_dd, path_output_dd, import_desc='yes', import_var_types='yes', path_to_write=path_output_tmp)"
   ]
  },
  {
   "cell_type": "markdown",
   "id": "9c248d70",
   "metadata": {},
   "source": [
    "# 2. Explolatory Data Analysis"
   ]
  },
  {
   "cell_type": "markdown",
   "id": "1f6d19a4",
   "metadata": {},
   "source": [
    "## Univariate EDA"
   ]
  },
  {
   "cell_type": "code",
   "execution_count": null,
   "id": "b3932b2c",
   "metadata": {
    "collapsed": true
   },
   "outputs": [],
   "source": [
    "%run -i 'eda_univariate'"
   ]
  },
  {
   "cell_type": "markdown",
   "id": "aa6c73b9",
   "metadata": {},
   "source": [
    "## Bivariate EDA"
   ]
  },
  {
   "cell_type": "code",
   "execution_count": 9,
   "id": "b866b615",
   "metadata": {},
   "outputs": [
    {
     "name": "stdout",
     "output_type": "stream",
     "text": [
      "Dash is running on http://127.0.0.1:8051/\n",
      "\n",
      " * Serving Flask app 'eda_bivariate'\n",
      " * Debug mode: on\n"
     ]
    }
   ],
   "source": [
    "%run -i 'eda_bivariate'"
   ]
  },
  {
   "cell_type": "markdown",
   "id": "0649be0a",
   "metadata": {},
   "source": [
    "# 3. Data Transformation (ASL)"
   ]
  },
  {
   "cell_type": "code",
   "execution_count": 10,
   "id": "50c2907c",
   "metadata": {},
   "outputs": [],
   "source": [
    "# dictionary of specific params for the asl transformation on a particular column\n",
    "dict_params_asl = {\n",
    "    'retention': 0.6,\n",
    "    'shape': 3,\n",
    "    'steepness': 50000,\n",
    "    'lag': 2,\n",
    "    'adstock_col': None, \n",
    "    'saturation_col': None,\n",
    "    'lag_col': None,\n",
    "    'lst_new_col_names_ads': None,\n",
    "    'lst_new_col_names_sat': None,\n",
    "    'lst_new_col_names_lag': None,\n",
    "    'keep_input_col': True, \n",
    "    'keep_intermediate_col': True\n",
    "}"
   ]
  },
  {
   "cell_type": "code",
   "execution_count": 11,
   "id": "e838bbf9",
   "metadata": {},
   "outputs": [],
   "source": [
    "# dictionary of all trial values of params for asl transformations on a list of variables\n",
    "# if params are not separately given for a particular variable, then default values are used\n",
    "# if different params are to be used for a variable, copy the param-set for any variable and make changes\n",
    "\n",
    "dict_params_asl_trial = {\n",
    "    'default': {\n",
    "        'retention': {\n",
    "            'start': 0.05,\n",
    "            'end': 0.95,\n",
    "            'step_size': 0.05\n",
    "        },\n",
    "        'shape': {\n",
    "            'start': 2,\n",
    "            'end': 4,\n",
    "            'step_size': 0.2\n",
    "        },\n",
    "        'steepness': {\n",
    "            'start': lambda x: x.where(x.gt(0)).min(0),\n",
    "            'end': lambda x: 2*sum(x),\n",
    "            'num_steps': 21\n",
    "        },\n",
    "        'lag': {\n",
    "            'start': 0,\n",
    "            'end': 3,\n",
    "            'step_size': 1\n",
    "        },\n",
    "        'other_params': {    \n",
    "            'adstock_col': None, \n",
    "            'saturation_col': None,\n",
    "            'lag_col': None,\n",
    "            'lst_new_col_names_ads': None,\n",
    "            'lst_new_col_names_sat': None,\n",
    "            'lst_new_col_names_lag': None,\n",
    "            'keep_input_col': False, \n",
    "            'keep_intermediate_col': False\n",
    "        }\n",
    "    }   \n",
    "}"
   ]
  },
  {
   "cell_type": "code",
   "execution_count": 12,
   "id": "8eabbdfd",
   "metadata": {},
   "outputs": [],
   "source": [
    "# Create list for which ASL needs to be created\n",
    "#lst_var = ['Digital_Display_Impression']\n",
    "lst_var = ['Digital_Display_Impression', 'Digital_Social_Impression', 'Digital_Video_Impression', 'Digital_Search_Impression']\n",
    "path_write = path_base + output_dir"
   ]
  },
  {
   "cell_type": "markdown",
   "id": "fed4f4fb",
   "metadata": {},
   "source": [
    "### Create input for ASL / Change Granularity\n",
    "\n",
    "It's possible that one might want to compute ASL transformations on a different granularity than the earlier input used for DD/EDA. The granularity should be changed here, before calling ASL, or new input should be read from an external file."
   ]
  },
  {
   "cell_type": "code",
   "execution_count": 13,
   "id": "e4b1d749",
   "metadata": {},
   "outputs": [],
   "source": [
    "filename_read = '4_Adidas_Monthly.csv'\n",
    "path_read = os.path.join(path_base + input_dir, filename_read)\n",
    "df_input = io.read_file(path_read).reset_index().drop('index', axis=1)"
   ]
  },
  {
   "cell_type": "markdown",
   "id": "85a6b920",
   "metadata": {},
   "source": [
    "## Test: Specific ASL Combination"
   ]
  },
  {
   "cell_type": "code",
   "execution_count": null,
   "id": "ffdbc494",
   "metadata": {
    "collapsed": true
   },
   "outputs": [],
   "source": [
    "%%timeit -r1 -n1\n",
    "\n",
    "for var in lst_var: \n",
    "    result = dt.asl_col(df_input, var, dict_params_asl)\n",
    "    pprint(result)"
   ]
  },
  {
   "cell_type": "markdown",
   "id": "9fde70cc",
   "metadata": {},
   "source": [
    "## Test: Specific ASL Combination"
   ]
  },
  {
   "cell_type": "code",
   "execution_count": null,
   "id": "df4e05d0",
   "metadata": {},
   "outputs": [],
   "source": [
    "%%timeit -r1 -n1\n",
    "\n",
    "dt.run_asl_combinations(df_input, lst_var, dict_params_asl_trial, path_write)"
   ]
  },
  {
   "cell_type": "markdown",
   "id": "fdf2757e",
   "metadata": {},
   "source": [
    "# 4. Feature Selection"
   ]
  },
  {
   "cell_type": "markdown",
   "id": "52fdc882",
   "metadata": {},
   "source": [
    "## Media variables spends order\n",
    "\n",
    "This module is used to get a dictionary in which media variables are listed in order of highest to lowest spends. This dictionary can be used as an input to stepwise regression in modeling. This information, along with the percentage spends, is also written to a file named _spends_distribution.csv_."
   ]
  },
  {
   "cell_type": "code",
   "execution_count": 16,
   "id": "84cc5657",
   "metadata": {},
   "outputs": [
    {
     "name": "stdout",
     "output_type": "stream",
     "text": [
      "The file has been successfully written to ./fresh_run_jun23/spends_distribution.csv\n"
     ]
    }
   ],
   "source": [
    "forward_selection_spends = fs.get_media_spends_order(spend_keyword='Spend')"
   ]
  },
  {
   "cell_type": "code",
   "execution_count": null,
   "id": "6164dc81",
   "metadata": {},
   "outputs": [],
   "source": [
    "pprint(forward_selection_spends)"
   ]
  },
  {
   "cell_type": "markdown",
   "id": "5164ebf1",
   "metadata": {},
   "source": [
    "## Random Forest and Boruta based Feature Importance for Media Variables"
   ]
  },
  {
   "cell_type": "code",
   "execution_count": null,
   "id": "572af769",
   "metadata": {},
   "outputs": [],
   "source": [
    "rf_ordered_dict, boruta_rf_df = fs.media_variables_importance(lst_var)"
   ]
  },
  {
   "cell_type": "code",
   "execution_count": 20,
   "id": "8695f027",
   "metadata": {},
   "outputs": [
    {
     "name": "stdout",
     "output_type": "stream",
     "text": [
      "OrderedDict([('Digital_Social_Impression', None),\n",
      "             ('Digital_Video_Impression', None),\n",
      "             ('Digital_Search_Impression', None),\n",
      "             ('Digital_Display_Impression', None)])\n"
     ]
    }
   ],
   "source": [
    "pprint(rf_ordered_dict)"
   ]
  },
  {
   "cell_type": "code",
   "execution_count": 21,
   "id": "4222202f",
   "metadata": {},
   "outputs": [
    {
     "data": {
      "text/html": [
       "<div>\n",
       "<style scoped>\n",
       "    .dataframe tbody tr th:only-of-type {\n",
       "        vertical-align: middle;\n",
       "    }\n",
       "\n",
       "    .dataframe tbody tr th {\n",
       "        vertical-align: top;\n",
       "    }\n",
       "\n",
       "    .dataframe thead th {\n",
       "        text-align: right;\n",
       "    }\n",
       "</style>\n",
       "<table border=\"1\" class=\"dataframe\">\n",
       "  <thead>\n",
       "    <tr style=\"text-align: right;\">\n",
       "      <th></th>\n",
       "      <th>Feature</th>\n",
       "      <th>Gini_importance_RF</th>\n",
       "      <th>Boruta_Rank</th>\n",
       "      <th>Support</th>\n",
       "      <th>Weak_Support</th>\n",
       "    </tr>\n",
       "  </thead>\n",
       "  <tbody>\n",
       "    <tr>\n",
       "      <th>0</th>\n",
       "      <td>Digital_Social_Impression</td>\n",
       "      <td>0.450997</td>\n",
       "      <td>1</td>\n",
       "      <td>True</td>\n",
       "      <td>False</td>\n",
       "    </tr>\n",
       "    <tr>\n",
       "      <th>1</th>\n",
       "      <td>Digital_Video_Impression</td>\n",
       "      <td>0.208879</td>\n",
       "      <td>1</td>\n",
       "      <td>True</td>\n",
       "      <td>False</td>\n",
       "    </tr>\n",
       "    <tr>\n",
       "      <th>2</th>\n",
       "      <td>Digital_Search_Impression</td>\n",
       "      <td>0.175279</td>\n",
       "      <td>2</td>\n",
       "      <td>False</td>\n",
       "      <td>False</td>\n",
       "    </tr>\n",
       "    <tr>\n",
       "      <th>3</th>\n",
       "      <td>Digital_Display_Impression</td>\n",
       "      <td>0.164845</td>\n",
       "      <td>1</td>\n",
       "      <td>True</td>\n",
       "      <td>False</td>\n",
       "    </tr>\n",
       "  </tbody>\n",
       "</table>\n",
       "</div>"
      ],
      "text/plain": [
       "                      Feature  Gini_importance_RF  Boruta_Rank  Support   \n",
       "0   Digital_Social_Impression            0.450997            1     True  \\\n",
       "1    Digital_Video_Impression            0.208879            1     True   \n",
       "2   Digital_Search_Impression            0.175279            2    False   \n",
       "3  Digital_Display_Impression            0.164845            1     True   \n",
       "\n",
       "   Weak_Support  \n",
       "0         False  \n",
       "1         False  \n",
       "2         False  \n",
       "3         False  "
      ]
     },
     "execution_count": 21,
     "metadata": {},
     "output_type": "execute_result"
    }
   ],
   "source": [
    "boruta_rf_df"
   ]
  },
  {
   "cell_type": "markdown",
   "id": "4152c0a7",
   "metadata": {},
   "source": [
    "## Individual media variables feature importance for ASL combinations"
   ]
  },
  {
   "cell_type": "code",
   "execution_count": 22,
   "id": "48367eb5",
   "metadata": {},
   "outputs": [],
   "source": [
    "asl_feature_importances = fs.individual_media_asl_importances(lst_var, 20, path_write)"
   ]
  },
  {
   "cell_type": "code",
   "execution_count": null,
   "id": "2c4ac54c",
   "metadata": {},
   "outputs": [],
   "source": [
    "fs.plot_asl_importance(asl_feature_importances, lst_var[0])"
   ]
  },
  {
   "cell_type": "markdown",
   "id": "da2862f8",
   "metadata": {},
   "source": [
    "# 5. Modeling"
   ]
  },
  {
   "cell_type": "markdown",
   "id": "a8ff3958",
   "metadata": {},
   "source": [
    "## Forward Selection (Stepwise Regression)"
   ]
  },
  {
   "cell_type": "code",
   "execution_count": 19,
   "id": "1477cfdd",
   "metadata": {},
   "outputs": [],
   "source": [
    "forward_selection_variables = rf_ordered_dict.copy()"
   ]
  },
  {
   "cell_type": "markdown",
   "id": "e1ccae14",
   "metadata": {},
   "source": [
    "### Iteration 1"
   ]
  },
  {
   "cell_type": "code",
   "execution_count": 20,
   "id": "1b65cc39",
   "metadata": {},
   "outputs": [
    {
     "name": "stdout",
     "output_type": "stream",
     "text": [
      "\n",
      "Adding feature to the model:  Digital_Social_Impression\n",
      "\n",
      "This is the first run of forward selection!\n"
     ]
    },
    {
     "name": "stderr",
     "output_type": "stream",
     "text": [
      "Building Regression Models: 18392it [00:31, 592.30it/s]                                                                                                                   \n"
     ]
    },
    {
     "name": "stdout",
     "output_type": "stream",
     "text": [
      "All models done, out of for loop\n"
     ]
    }
   ],
   "source": [
    "mmm.forward_selection_media_variables(forward_selection_variables)"
   ]
  },
  {
   "cell_type": "markdown",
   "id": "a2f66c2f",
   "metadata": {},
   "source": [
    "### Iteration 2"
   ]
  },
  {
   "cell_type": "markdown",
   "id": "b37471cc",
   "metadata": {},
   "source": [
    "For the next iteration, choose best model from previous iteration and add it to the forward selection dictionary!"
   ]
  },
  {
   "cell_type": "code",
   "execution_count": 21,
   "id": "3c7778d1",
   "metadata": {},
   "outputs": [],
   "source": [
    "forward_selection_variables['Digital_Social_Impression'] = 12"
   ]
  },
  {
   "cell_type": "code",
   "execution_count": 23,
   "id": "d09793de",
   "metadata": {},
   "outputs": [
    {
     "name": "stdout",
     "output_type": "stream",
     "text": [
      "OrderedDict([('Digital_Social_Impression', 12),\n",
      "             ('Digital_Video_Impression', None),\n",
      "             ('Digital_Search_Impression', None),\n",
      "             ('Digital_Display_Impression', None)])\n"
     ]
    }
   ],
   "source": [
    "pprint(forward_selection_variables)"
   ]
  },
  {
   "cell_type": "code",
   "execution_count": 24,
   "id": "9fc9e2ab",
   "metadata": {},
   "outputs": [
    {
     "name": "stdout",
     "output_type": "stream",
     "text": [
      "\n",
      "Adding feature to the model:  Digital_Video_Impression\n",
      "\n"
     ]
    },
    {
     "name": "stderr",
     "output_type": "stream",
     "text": [
      "Building Regression Models: 18392it [00:40, 451.76it/s]                                                                                                                   \n"
     ]
    },
    {
     "name": "stdout",
     "output_type": "stream",
     "text": [
      "All models done, out of for loop\n"
     ]
    }
   ],
   "source": [
    "mmm.forward_selection_media_variables(forward_selection_variables)"
   ]
  },
  {
   "cell_type": "markdown",
   "id": "b1106bc9",
   "metadata": {},
   "source": [
    "## Custom Model Build"
   ]
  },
  {
   "cell_type": "markdown",
   "id": "b64eed63",
   "metadata": {},
   "source": [
    "### Create list of all variables - media asl + other variables"
   ]
  },
  {
   "cell_type": "code",
   "execution_count": 4,
   "id": "13b8c480",
   "metadata": {},
   "outputs": [
    {
     "name": "stdout",
     "output_type": "stream",
     "text": [
      "{'competitor': [],\n",
      " 'media': ['Digital_Social_Impression_asl_1_1_1_0'],\n",
      " 'others': []}\n"
     ]
    }
   ],
   "source": [
    "media_variables  = ['Digital_Social_Impression_asl_1_1_1_0']\n",
    "                    #'Digital_Video_Impression_asl_0.15_2.8_1828096186_0']\n",
    "#comp_variables =  ['Competition_Offline_Under_Armour_TVGRPs_asl_0.05_2.0_121.81_2',\n",
    "#                  'Competition_Offline_Descente_TVGRPs_asl_0.95_3.6_107.91_3']\n",
    "comp_variables = []\n",
    "other_variables = []\n",
    "#other_variables = ['Holiday_Christmas_Day', 'Macro_COVID_Shincheonji', 'Holiday_Chuseok',  'Holiday_Independent_Day']\n",
    "list_of_variables = {'media': media_variables,\n",
    "                     'competitor': comp_variables,\n",
    "                     'others': other_variables}\n",
    "pprint(list_of_variables)"
   ]
  },
  {
   "cell_type": "code",
   "execution_count": 5,
   "id": "5124ef1a",
   "metadata": {},
   "outputs": [],
   "source": [
    "output_path = './output/model_output'"
   ]
  },
  {
   "cell_type": "code",
   "execution_count": 6,
   "id": "3ece1e94",
   "metadata": {},
   "outputs": [
    {
     "name": "stdout",
     "output_type": "stream",
     "text": [
      "                            OLS Regression Results                            \n",
      "==============================================================================\n",
      "Dep. Variable:        KPI_Total_Sales   R-squared:                       0.084\n",
      "Model:                            OLS   Adj. R-squared:                  0.057\n",
      "Method:                 Least Squares   F-statistic:                     3.105\n",
      "Date:                Mon, 26 Jun 2023   Prob (F-statistic):             0.0870\n",
      "Time:                        14:23:44   Log-Likelihood:                -881.07\n",
      "No. Observations:                  36   AIC:                             1766.\n",
      "Df Residuals:                      34   BIC:                             1769.\n",
      "Df Model:                           1                                         \n",
      "Covariance Type:            nonrobust                                         \n",
      "=========================================================================================================\n",
      "                                            coef    std err          t      P>|t|      [0.025      0.975]\n",
      "---------------------------------------------------------------------------------------------------------\n",
      "const                                  6.236e+10   6.32e+09      9.867      0.000    4.95e+10    7.52e+10\n",
      "Digital_Social_Impression_asl_1_1_1_0    -7.8245      4.440     -1.762      0.087     -16.848       1.199\n",
      "==============================================================================\n",
      "Omnibus:                        1.978   Durbin-Watson:                   1.831\n",
      "Prob(Omnibus):                  0.372   Jarque-Bera (JB):                1.077\n",
      "Skew:                           0.392   Prob(JB):                        0.583\n",
      "Kurtosis:                       3.321   Cond. No.                     5.09e+09\n",
      "==============================================================================\n",
      "\n",
      "Notes:\n",
      "[1] Standard Errors assume that the covariance matrix of the errors is correctly specified.\n",
      "[2] The condition number is large, 5.09e+09. This might indicate that there are\n",
      "strong multicollinearity or other numerical problems.\n",
      "\n",
      " The Model did not satisfy conditions for model selection \n",
      "\n"
     ]
    }
   ],
   "source": [
    "# Build model\n",
    "mmm.custom_variables_model(list_of_variables, output_path)"
   ]
  }
 ],
 "metadata": {
  "kernelspec": {
   "display_name": "Python 3 (ipykernel)",
   "language": "python",
   "name": "python3"
  },
  "language_info": {
   "codemirror_mode": {
    "name": "ipython",
    "version": 3
   },
   "file_extension": ".py",
   "mimetype": "text/x-python",
   "name": "python",
   "nbconvert_exporter": "python",
   "pygments_lexer": "ipython3",
   "version": "3.9.12"
  }
 },
 "nbformat": 4,
 "nbformat_minor": 5
}
